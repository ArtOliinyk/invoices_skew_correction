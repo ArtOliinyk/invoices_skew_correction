{
 "cells": [
  {
   "cell_type": "code",
   "execution_count": 7,
   "id": "cfd87123",
   "metadata": {},
   "outputs": [],
   "source": [
    "import os\n",
    "import random\n",
    "import PIL\n",
    "import cv2\n",
    "import json\n",
    "import numpy as np\n",
    "import pandas as pd\n",
    "from PIL import Image, ImageOps"
   ]
  },
  {
   "cell_type": "code",
   "execution_count": 8,
   "id": "3fd22b38",
   "metadata": {},
   "outputs": [],
   "source": [
    "def make_square(im, min_size=2600, fill_color=(255, 255, 255)):\n",
    "    x, y = im.size\n",
    "    size = max(min_size, x, y)\n",
    "    new_im = Image.new('RGB', (size, size), fill_color)\n",
    "    new_im.paste(im, (int((size - x) / 2), int((size - y) / 2)))\n",
    "    return new_im"
   ]
  },
  {
   "cell_type": "code",
   "execution_count": 9,
   "id": "b0aaed73",
   "metadata": {},
   "outputs": [],
   "source": [
    "class Augmentation:\n",
    "    \n",
    "    def __init__(self, path):\n",
    "        self.path = path\n",
    "    \n",
    "    def rotate_images(self, op, iterations):\n",
    "        self.op = op\n",
    "        self.iterations = iterations\n",
    "        with open('responce.json', 'r') as f:\n",
    "          data = json.load(f)\n",
    "        os.mkdir(self.op)\n",
    "        print(f\"created {self.op} directory\")\n",
    "        images_list = []\n",
    "        \n",
    "        \n",
    "        for k in range(0, self.iterations):\n",
    "            print(f\"iteration {k}\")\n",
    "            for f in os.listdir(self.path):\n",
    "                json_dict = {}\n",
    "                angle = random.randint(-20, 20)\n",
    "                im = Image.open(os.path.join(self.path, f))\n",
    "                im = im.rotate(angle, PIL.Image.NEAREST, expand = 1, fillcolor = 'white')\n",
    "                im = make_square(im)\n",
    "                im = ImageOps.grayscale(im)\n",
    "                im = cv2.resize(np.array(im), (1024, 1024), interpolation = cv2.INTER_AREA)\n",
    "                im_name = 'Image-' + str(k) + '-' + str(angle) + f\n",
    "                json_dict['id'] = im_name\n",
    "                json_dict['angle'] = angle + data[self.path+f]\n",
    "                cv2.imwrite(os.path.join(self.op, im_name), im)\n",
    "                images_list.append(json_dict)\n",
    "        \n",
    "        return images_list\n"
   ]
  },
  {
   "cell_type": "code",
   "execution_count": 10,
   "id": "32995ce2",
   "metadata": {},
   "outputs": [
    {
     "name": "stdout",
     "output_type": "stream",
     "text": [
      "created dataset_highres/ directory\n",
      "iteration 0\n",
      "iteration 1\n",
      "iteration 2\n",
      "iteration 3\n",
      "iteration 4\n",
      "iteration 5\n",
      "iteration 6\n",
      "iteration 7\n",
      "iteration 8\n",
      "iteration 9\n"
     ]
    }
   ],
   "source": [
    "augmetation = Augmentation('invoices_rotated/')\n",
    "images_lst = augmetation.rotate_images('dataset_highres/', 10)"
   ]
  },
  {
   "cell_type": "code",
   "execution_count": 11,
   "id": "c90bad3c",
   "metadata": {},
   "outputs": [
    {
     "data": {
      "text/html": [
       "<div>\n",
       "<style scoped>\n",
       "    .dataframe tbody tr th:only-of-type {\n",
       "        vertical-align: middle;\n",
       "    }\n",
       "\n",
       "    .dataframe tbody tr th {\n",
       "        vertical-align: top;\n",
       "    }\n",
       "\n",
       "    .dataframe thead th {\n",
       "        text-align: right;\n",
       "    }\n",
       "</style>\n",
       "<table border=\"1\" class=\"dataframe\">\n",
       "  <thead>\n",
       "    <tr style=\"text-align: right;\">\n",
       "      <th></th>\n",
       "      <th>id</th>\n",
       "      <th>angle</th>\n",
       "    </tr>\n",
       "  </thead>\n",
       "  <tbody>\n",
       "    <tr>\n",
       "      <th>0</th>\n",
       "      <td>Image-0--50.png</td>\n",
       "      <td>2</td>\n",
       "    </tr>\n",
       "    <tr>\n",
       "      <th>1</th>\n",
       "      <td>Image-0--191.png</td>\n",
       "      <td>-21</td>\n",
       "    </tr>\n",
       "    <tr>\n",
       "      <th>2</th>\n",
       "      <td>Image-0-510.png</td>\n",
       "      <td>1</td>\n",
       "    </tr>\n",
       "    <tr>\n",
       "      <th>3</th>\n",
       "      <td>Image-0-92.png</td>\n",
       "      <td>0</td>\n",
       "    </tr>\n",
       "    <tr>\n",
       "      <th>4</th>\n",
       "      <td>Image-0-23.png</td>\n",
       "      <td>-5</td>\n",
       "    </tr>\n",
       "    <tr>\n",
       "      <th>...</th>\n",
       "      <td>...</td>\n",
       "      <td>...</td>\n",
       "    </tr>\n",
       "    <tr>\n",
       "      <th>105</th>\n",
       "      <td>Image-9--15.png</td>\n",
       "      <td>-7</td>\n",
       "    </tr>\n",
       "    <tr>\n",
       "      <th>106</th>\n",
       "      <td>Image-9--126.png</td>\n",
       "      <td>-7</td>\n",
       "    </tr>\n",
       "    <tr>\n",
       "      <th>107</th>\n",
       "      <td>Image-9-07.png</td>\n",
       "      <td>-2</td>\n",
       "    </tr>\n",
       "    <tr>\n",
       "      <th>108</th>\n",
       "      <td>Image-9-38.png</td>\n",
       "      <td>-1</td>\n",
       "    </tr>\n",
       "    <tr>\n",
       "      <th>109</th>\n",
       "      <td>Image-9-189.png</td>\n",
       "      <td>17</td>\n",
       "    </tr>\n",
       "  </tbody>\n",
       "</table>\n",
       "<p>110 rows × 2 columns</p>\n",
       "</div>"
      ],
      "text/plain": [
       "                   id  angle\n",
       "0     Image-0--50.png      2\n",
       "1    Image-0--191.png    -21\n",
       "2     Image-0-510.png      1\n",
       "3      Image-0-92.png      0\n",
       "4      Image-0-23.png     -5\n",
       "..                ...    ...\n",
       "105   Image-9--15.png     -7\n",
       "106  Image-9--126.png     -7\n",
       "107    Image-9-07.png     -2\n",
       "108    Image-9-38.png     -1\n",
       "109   Image-9-189.png     17\n",
       "\n",
       "[110 rows x 2 columns]"
      ]
     },
     "execution_count": 11,
     "metadata": {},
     "output_type": "execute_result"
    }
   ],
   "source": [
    "df = pd.DataFrame.from_dict(images_lst)\n",
    "df.to_csv('labels_highres.csv', index=False)\n",
    "df"
   ]
  },
  {
   "cell_type": "code",
   "execution_count": null,
   "id": "fc9e8bda",
   "metadata": {},
   "outputs": [],
   "source": []
  }
 ],
 "metadata": {
  "kernelspec": {
   "display_name": "Python 3 (ipykernel)",
   "language": "python",
   "name": "python3"
  },
  "language_info": {
   "codemirror_mode": {
    "name": "ipython",
    "version": 3
   },
   "file_extension": ".py",
   "mimetype": "text/x-python",
   "name": "python",
   "nbconvert_exporter": "python",
   "pygments_lexer": "ipython3",
   "version": "3.11.3"
  }
 },
 "nbformat": 4,
 "nbformat_minor": 5
}
